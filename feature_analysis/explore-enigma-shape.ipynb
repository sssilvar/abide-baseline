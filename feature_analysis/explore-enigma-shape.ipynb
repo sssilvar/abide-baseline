{
 "cells": [
  {
   "cell_type": "code",
   "execution_count": 1,
   "metadata": {},
   "outputs": [],
   "source": [
    "import pandas as pd"
   ]
  },
  {
   "cell_type": "code",
   "execution_count": 2,
   "metadata": {},
   "outputs": [
    {
     "data": {
      "text/html": [
       "<div>\n",
       "<style scoped>\n",
       "    .dataframe tbody tr th:only-of-type {\n",
       "        vertical-align: middle;\n",
       "    }\n",
       "\n",
       "    .dataframe tbody tr th {\n",
       "        vertical-align: top;\n",
       "    }\n",
       "\n",
       "    .dataframe thead th {\n",
       "        text-align: right;\n",
       "    }\n",
       "</style>\n",
       "<table border=\"1\" class=\"dataframe\">\n",
       "  <thead>\n",
       "    <tr style=\"text-align: right;\">\n",
       "      <th></th>\n",
       "      <th>SEX</th>\n",
       "      <th>AGE_AT_SCAN</th>\n",
       "      <th>DX_GROUP</th>\n",
       "      <th>SITE_ID</th>\n",
       "      <th>HANDEDNESS_CATEGORY</th>\n",
       "    </tr>\n",
       "    <tr>\n",
       "      <th>SUB_ID</th>\n",
       "      <th></th>\n",
       "      <th></th>\n",
       "      <th></th>\n",
       "      <th></th>\n",
       "      <th></th>\n",
       "    </tr>\n",
       "  </thead>\n",
       "  <tbody>\n",
       "    <tr>\n",
       "      <th>51456</th>\n",
       "      <td>Male</td>\n",
       "      <td>55.4</td>\n",
       "      <td>Autism</td>\n",
       "      <td>CALTECH</td>\n",
       "      <td>R</td>\n",
       "    </tr>\n",
       "    <tr>\n",
       "      <th>51457</th>\n",
       "      <td>Male</td>\n",
       "      <td>22.9</td>\n",
       "      <td>Autism</td>\n",
       "      <td>CALTECH</td>\n",
       "      <td>M</td>\n",
       "    </tr>\n",
       "    <tr>\n",
       "      <th>51458</th>\n",
       "      <td>Male</td>\n",
       "      <td>39.2</td>\n",
       "      <td>Autism</td>\n",
       "      <td>CALTECH</td>\n",
       "      <td>R</td>\n",
       "    </tr>\n",
       "    <tr>\n",
       "      <th>51459</th>\n",
       "      <td>Male</td>\n",
       "      <td>22.8</td>\n",
       "      <td>Autism</td>\n",
       "      <td>CALTECH</td>\n",
       "      <td>R</td>\n",
       "    </tr>\n",
       "    <tr>\n",
       "      <th>51460</th>\n",
       "      <td>Female</td>\n",
       "      <td>34.6</td>\n",
       "      <td>Autism</td>\n",
       "      <td>CALTECH</td>\n",
       "      <td>M</td>\n",
       "    </tr>\n",
       "  </tbody>\n",
       "</table>\n",
       "</div>"
      ],
      "text/plain": [
       "           SEX  AGE_AT_SCAN DX_GROUP  SITE_ID HANDEDNESS_CATEGORY\n",
       "SUB_ID                                                           \n",
       "51456     Male         55.4   Autism  CALTECH                   R\n",
       "51457     Male         22.9   Autism  CALTECH                   M\n",
       "51458     Male         39.2   Autism  CALTECH                   R\n",
       "51459     Male         22.8   Autism  CALTECH                   R\n",
       "51460   Female         34.6   Autism  CALTECH                   M"
      ]
     },
     "execution_count": 2,
     "metadata": {},
     "output_type": "execute_result"
    }
   ],
   "source": [
    "pheno = pd.read_csv('../data/phenotipic_combined.csv', index_col=0)\n",
    "pheno.head()"
   ]
  },
  {
   "cell_type": "code",
   "execution_count": 41,
   "metadata": {},
   "outputs": [
    {
     "data": {
      "text/plain": [
       "(2194, 54240)"
      ]
     },
     "execution_count": 41,
     "metadata": {},
     "output_type": "execute_result"
    }
   ],
   "source": [
    "thick = pd.read_csv('../data/ABIDE_ESHAPE/thick.csv', low_memory=False, index_col=0).join(pd.read_csv('../data/ABIDE_ESHAPE/LogJacs.csv', low_memory=False, index_col=0))\n",
    "thick.shape"
   ]
  },
  {
   "cell_type": "code",
   "execution_count": 42,
   "metadata": {},
   "outputs": [],
   "source": [
    "thick.dropna(inplace=True)"
   ]
  },
  {
   "cell_type": "code",
   "execution_count": 58,
   "metadata": {},
   "outputs": [],
   "source": [
    "from sklearn.decomposition import PCA\n",
    "from sklearn.preprocessing import StandardScaler\n",
    "from sklearn.discriminant_analysis import LinearDiscriminantAnalysis as LDA\n",
    "from sklearn.pipeline import Pipeline"
   ]
  },
  {
   "cell_type": "code",
   "execution_count": 75,
   "metadata": {},
   "outputs": [
    {
     "data": {
      "text/plain": [
       "Pipeline(steps=[('scaler', StandardScaler()), ('pca', PCA(n_components=50))])"
      ]
     },
     "execution_count": 75,
     "metadata": {},
     "output_type": "execute_result"
    }
   ],
   "source": [
    "n_comp = 50\n",
    "\n",
    "pipeline = Pipeline([\n",
    "    ('scaler', StandardScaler()),\n",
    "    ('pca', PCA(n_components=n_comp))\n",
    "])\n",
    "pipeline"
   ]
  },
  {
   "cell_type": "code",
   "execution_count": 76,
   "metadata": {},
   "outputs": [],
   "source": [
    "x_pca = pipeline.fit_transform(thick, pheno.DX_GROUP.reindex(thick.index))"
   ]
  },
  {
   "cell_type": "code",
   "execution_count": 78,
   "metadata": {},
   "outputs": [],
   "source": [
    "pca_cols = [f'PC{i+1}' for i in range(n_comp)]\n",
    "df_pca = pd.DataFrame(x_pca, columns=pca_cols, index=thick.index)"
   ]
  },
  {
   "cell_type": "code",
   "execution_count": 79,
   "metadata": {},
   "outputs": [
    {
     "data": {
      "text/html": [
       "<div>\n",
       "<style scoped>\n",
       "    .dataframe tbody tr th:only-of-type {\n",
       "        vertical-align: middle;\n",
       "    }\n",
       "\n",
       "    .dataframe tbody tr th {\n",
       "        vertical-align: top;\n",
       "    }\n",
       "\n",
       "    .dataframe thead th {\n",
       "        text-align: right;\n",
       "    }\n",
       "</style>\n",
       "<table border=\"1\" class=\"dataframe\">\n",
       "  <thead>\n",
       "    <tr style=\"text-align: right;\">\n",
       "      <th></th>\n",
       "      <th>PC1</th>\n",
       "      <th>PC2</th>\n",
       "      <th>PC3</th>\n",
       "      <th>PC4</th>\n",
       "      <th>PC5</th>\n",
       "      <th>PC6</th>\n",
       "      <th>PC7</th>\n",
       "      <th>PC8</th>\n",
       "      <th>PC9</th>\n",
       "      <th>PC10</th>\n",
       "      <th>...</th>\n",
       "      <th>PC42</th>\n",
       "      <th>PC43</th>\n",
       "      <th>PC44</th>\n",
       "      <th>PC45</th>\n",
       "      <th>PC46</th>\n",
       "      <th>PC47</th>\n",
       "      <th>PC48</th>\n",
       "      <th>PC49</th>\n",
       "      <th>PC50</th>\n",
       "      <th>DX_GROUP</th>\n",
       "    </tr>\n",
       "    <tr>\n",
       "      <th>SubjID</th>\n",
       "      <th></th>\n",
       "      <th></th>\n",
       "      <th></th>\n",
       "      <th></th>\n",
       "      <th></th>\n",
       "      <th></th>\n",
       "      <th></th>\n",
       "      <th></th>\n",
       "      <th></th>\n",
       "      <th></th>\n",
       "      <th></th>\n",
       "      <th></th>\n",
       "      <th></th>\n",
       "      <th></th>\n",
       "      <th></th>\n",
       "      <th></th>\n",
       "      <th></th>\n",
       "      <th></th>\n",
       "      <th></th>\n",
       "      <th></th>\n",
       "      <th></th>\n",
       "    </tr>\n",
       "  </thead>\n",
       "  <tbody>\n",
       "    <tr>\n",
       "      <th>28675</th>\n",
       "      <td>243.501564</td>\n",
       "      <td>-2.094617</td>\n",
       "      <td>40.233738</td>\n",
       "      <td>40.512640</td>\n",
       "      <td>1.784395</td>\n",
       "      <td>-60.409442</td>\n",
       "      <td>4.147771</td>\n",
       "      <td>47.314956</td>\n",
       "      <td>-9.110851</td>\n",
       "      <td>-0.639756</td>\n",
       "      <td>...</td>\n",
       "      <td>-18.272819</td>\n",
       "      <td>-11.422814</td>\n",
       "      <td>-10.169843</td>\n",
       "      <td>13.275145</td>\n",
       "      <td>15.691881</td>\n",
       "      <td>10.785964</td>\n",
       "      <td>-3.042839</td>\n",
       "      <td>-16.067527</td>\n",
       "      <td>-7.988438</td>\n",
       "      <td>Autism</td>\n",
       "    </tr>\n",
       "    <tr>\n",
       "      <th>28676</th>\n",
       "      <td>211.361043</td>\n",
       "      <td>29.958407</td>\n",
       "      <td>312.826349</td>\n",
       "      <td>125.328551</td>\n",
       "      <td>56.351658</td>\n",
       "      <td>-7.089197</td>\n",
       "      <td>18.890607</td>\n",
       "      <td>46.606046</td>\n",
       "      <td>10.823757</td>\n",
       "      <td>-8.408155</td>\n",
       "      <td>...</td>\n",
       "      <td>-24.796143</td>\n",
       "      <td>9.165371</td>\n",
       "      <td>23.789265</td>\n",
       "      <td>-9.183541</td>\n",
       "      <td>-3.985436</td>\n",
       "      <td>1.495248</td>\n",
       "      <td>23.967568</td>\n",
       "      <td>-6.237335</td>\n",
       "      <td>3.464756</td>\n",
       "      <td>Autism</td>\n",
       "    </tr>\n",
       "    <tr>\n",
       "      <th>28677</th>\n",
       "      <td>164.913886</td>\n",
       "      <td>-6.913498</td>\n",
       "      <td>218.443099</td>\n",
       "      <td>86.690717</td>\n",
       "      <td>72.031803</td>\n",
       "      <td>24.414711</td>\n",
       "      <td>85.570982</td>\n",
       "      <td>85.471724</td>\n",
       "      <td>30.056956</td>\n",
       "      <td>-46.115608</td>\n",
       "      <td>...</td>\n",
       "      <td>21.723613</td>\n",
       "      <td>-7.714448</td>\n",
       "      <td>-20.738735</td>\n",
       "      <td>-13.092466</td>\n",
       "      <td>-15.881159</td>\n",
       "      <td>16.530586</td>\n",
       "      <td>4.250096</td>\n",
       "      <td>-46.897642</td>\n",
       "      <td>43.960585</td>\n",
       "      <td>Autism</td>\n",
       "    </tr>\n",
       "    <tr>\n",
       "      <th>28678</th>\n",
       "      <td>231.331250</td>\n",
       "      <td>-31.562860</td>\n",
       "      <td>56.542594</td>\n",
       "      <td>10.341554</td>\n",
       "      <td>-12.616762</td>\n",
       "      <td>-1.129031</td>\n",
       "      <td>-30.647842</td>\n",
       "      <td>45.674038</td>\n",
       "      <td>-6.351706</td>\n",
       "      <td>-3.108785</td>\n",
       "      <td>...</td>\n",
       "      <td>8.331466</td>\n",
       "      <td>17.099877</td>\n",
       "      <td>-10.480189</td>\n",
       "      <td>4.345443</td>\n",
       "      <td>5.505751</td>\n",
       "      <td>-3.436628</td>\n",
       "      <td>4.498827</td>\n",
       "      <td>-13.194517</td>\n",
       "      <td>13.913924</td>\n",
       "      <td>Autism</td>\n",
       "    </tr>\n",
       "    <tr>\n",
       "      <th>28679</th>\n",
       "      <td>39.209354</td>\n",
       "      <td>-28.848956</td>\n",
       "      <td>11.327131</td>\n",
       "      <td>46.963265</td>\n",
       "      <td>-27.813714</td>\n",
       "      <td>-59.477788</td>\n",
       "      <td>5.090726</td>\n",
       "      <td>23.862841</td>\n",
       "      <td>-44.542831</td>\n",
       "      <td>-41.769246</td>\n",
       "      <td>...</td>\n",
       "      <td>-24.023970</td>\n",
       "      <td>-9.977174</td>\n",
       "      <td>-4.884660</td>\n",
       "      <td>-14.777992</td>\n",
       "      <td>-5.357273</td>\n",
       "      <td>9.230966</td>\n",
       "      <td>-8.769805</td>\n",
       "      <td>-9.778308</td>\n",
       "      <td>-18.329277</td>\n",
       "      <td>Autism</td>\n",
       "    </tr>\n",
       "  </tbody>\n",
       "</table>\n",
       "<p>5 rows × 51 columns</p>\n",
       "</div>"
      ],
      "text/plain": [
       "               PC1        PC2         PC3         PC4        PC5        PC6  \\\n",
       "SubjID                                                                        \n",
       "28675   243.501564  -2.094617   40.233738   40.512640   1.784395 -60.409442   \n",
       "28676   211.361043  29.958407  312.826349  125.328551  56.351658  -7.089197   \n",
       "28677   164.913886  -6.913498  218.443099   86.690717  72.031803  24.414711   \n",
       "28678   231.331250 -31.562860   56.542594   10.341554 -12.616762  -1.129031   \n",
       "28679    39.209354 -28.848956   11.327131   46.963265 -27.813714 -59.477788   \n",
       "\n",
       "              PC7        PC8        PC9       PC10  ...       PC42       PC43  \\\n",
       "SubjID                                              ...                         \n",
       "28675    4.147771  47.314956  -9.110851  -0.639756  ... -18.272819 -11.422814   \n",
       "28676   18.890607  46.606046  10.823757  -8.408155  ... -24.796143   9.165371   \n",
       "28677   85.570982  85.471724  30.056956 -46.115608  ...  21.723613  -7.714448   \n",
       "28678  -30.647842  45.674038  -6.351706  -3.108785  ...   8.331466  17.099877   \n",
       "28679    5.090726  23.862841 -44.542831 -41.769246  ... -24.023970  -9.977174   \n",
       "\n",
       "             PC44       PC45       PC46       PC47       PC48       PC49  \\\n",
       "SubjID                                                                     \n",
       "28675  -10.169843  13.275145  15.691881  10.785964  -3.042839 -16.067527   \n",
       "28676   23.789265  -9.183541  -3.985436   1.495248  23.967568  -6.237335   \n",
       "28677  -20.738735 -13.092466 -15.881159  16.530586   4.250096 -46.897642   \n",
       "28678  -10.480189   4.345443   5.505751  -3.436628   4.498827 -13.194517   \n",
       "28679   -4.884660 -14.777992  -5.357273   9.230966  -8.769805  -9.778308   \n",
       "\n",
       "             PC50  DX_GROUP  \n",
       "SubjID                       \n",
       "28675   -7.988438    Autism  \n",
       "28676    3.464756    Autism  \n",
       "28677   43.960585    Autism  \n",
       "28678   13.913924    Autism  \n",
       "28679  -18.329277    Autism  \n",
       "\n",
       "[5 rows x 51 columns]"
      ]
     },
     "execution_count": 79,
     "metadata": {},
     "output_type": "execute_result"
    }
   ],
   "source": [
    "df_pca_comp = df_pca.join(pheno.DX_GROUP)\n",
    "df_pca_comp.head()"
   ]
  },
  {
   "cell_type": "code",
   "execution_count": 83,
   "metadata": {},
   "outputs": [],
   "source": [
    "import seaborn as sns\n",
    "import matplotlib.pyplot as plt\n",
    "\n",
    "sns.set()"
   ]
  },
  {
   "cell_type": "code",
   "execution_count": 84,
   "metadata": {},
   "outputs": [],
   "source": [
    "# sns.pairplot(df_pca_comp, hue='DX_GROUP', corner=True)"
   ]
  },
  {
   "cell_type": "code",
   "execution_count": 85,
   "metadata": {},
   "outputs": [
    {
     "data": {
      "text/plain": [
       "<AxesSubplot:xlabel='variable', ylabel='value'>"
      ]
     },
     "execution_count": 85,
     "metadata": {},
     "output_type": "execute_result"
    },
    {
     "data": {
      "image/png": "[encoded data removed]",
      "text/plain": [
       "<Figure size 1440x216 with 1 Axes>"
      ]
     },
     "metadata": {},
     "output_type": "display_data"
    }
   ],
   "source": [
    "plt.figure(figsize=(20,3))\n",
    "sns.boxplot(data=df_pca_comp.melt(id_vars='DX_GROUP'), x='variable', y='value', hue='DX_GROUP')"
   ]
  },
  {
   "cell_type": "code",
   "execution_count": 86,
   "metadata": {},
   "outputs": [],
   "source": [
    "from sklearn.ensemble import RandomForestClassifier\n",
    "from sklearn.metrics import classification_report\n",
    "from sklearn.model_selection import StratifiedKFold"
   ]
  },
  {
   "cell_type": "code",
   "execution_count": 87,
   "metadata": {},
   "outputs": [],
   "source": [
    "X = df_pca_comp.drop(columns='DX_GROUP')\n",
    "y = df_pca_comp['DX_GROUP']\n",
    "\n",
    "# X = thick\n",
    "# y = pheno.DX_GROUP.reindex(thick.index)"
   ]
  },
  {
   "cell_type": "code",
   "execution_count": 88,
   "metadata": {},
   "outputs": [],
   "source": [
    "skf = StratifiedKFold(n_splits=10)"
   ]
  },
  {
   "cell_type": "code",
   "execution_count": 89,
   "metadata": {},
   "outputs": [
    {
     "name": "stdout",
     "output_type": "stream",
     "text": [
      "              precision    recall  f1-score   support\n",
      "\n",
      "      Autism       0.57      0.47      0.52       104\n",
      "     Control       0.59      0.68      0.63       116\n",
      "\n",
      "    accuracy                           0.58       220\n",
      "   macro avg       0.58      0.58      0.57       220\n",
      "weighted avg       0.58      0.58      0.58       220\n",
      "\n",
      "              precision    recall  f1-score   support\n",
      "\n",
      "      Autism       0.55      0.58      0.56       104\n",
      "     Control       0.60      0.57      0.58       116\n",
      "\n",
      "    accuracy                           0.57       220\n",
      "   macro avg       0.57      0.57      0.57       220\n",
      "weighted avg       0.57      0.57      0.57       220\n",
      "\n",
      "              precision    recall  f1-score   support\n",
      "\n",
      "      Autism       0.63      0.38      0.47       104\n",
      "     Control       0.59      0.80      0.68       116\n",
      "\n",
      "    accuracy                           0.60       220\n",
      "   macro avg       0.61      0.59      0.57       220\n",
      "weighted avg       0.61      0.60      0.58       220\n",
      "\n",
      "              precision    recall  f1-score   support\n",
      "\n",
      "      Autism       0.58      0.30      0.39       104\n",
      "     Control       0.56      0.81      0.66       115\n",
      "\n",
      "    accuracy                           0.57       219\n",
      "   macro avg       0.57      0.55      0.53       219\n",
      "weighted avg       0.57      0.57      0.54       219\n",
      "\n",
      "              precision    recall  f1-score   support\n",
      "\n",
      "      Autism       0.55      0.53      0.54       104\n",
      "     Control       0.59      0.61      0.60       115\n",
      "\n",
      "    accuracy                           0.57       219\n",
      "   macro avg       0.57      0.57      0.57       219\n",
      "weighted avg       0.57      0.57      0.57       219\n",
      "\n",
      "              precision    recall  f1-score   support\n",
      "\n",
      "      Autism       0.50      0.46      0.48       104\n",
      "     Control       0.54      0.58      0.56       115\n",
      "\n",
      "    accuracy                           0.53       219\n",
      "   macro avg       0.52      0.52      0.52       219\n",
      "weighted avg       0.52      0.53      0.52       219\n",
      "\n",
      "              precision    recall  f1-score   support\n",
      "\n",
      "      Autism       0.51      0.48      0.49       104\n",
      "     Control       0.55      0.57      0.56       115\n",
      "\n",
      "    accuracy                           0.53       219\n",
      "   macro avg       0.53      0.53      0.53       219\n",
      "weighted avg       0.53      0.53      0.53       219\n",
      "\n",
      "              precision    recall  f1-score   support\n",
      "\n",
      "      Autism       0.57      0.52      0.55       103\n",
      "     Control       0.60      0.65      0.62       116\n",
      "\n",
      "    accuracy                           0.59       219\n",
      "   macro avg       0.59      0.59      0.59       219\n",
      "weighted avg       0.59      0.59      0.59       219\n",
      "\n",
      "              precision    recall  f1-score   support\n",
      "\n",
      "      Autism       0.47      0.48      0.47       103\n",
      "     Control       0.53      0.52      0.52       116\n",
      "\n",
      "    accuracy                           0.50       219\n",
      "   macro avg       0.50      0.50      0.50       219\n",
      "weighted avg       0.50      0.50      0.50       219\n",
      "\n",
      "              precision    recall  f1-score   support\n",
      "\n",
      "      Autism       0.51      0.51      0.51       103\n",
      "     Control       0.57      0.57      0.57       116\n",
      "\n",
      "    accuracy                           0.54       219\n",
      "   macro avg       0.54      0.54      0.54       219\n",
      "weighted avg       0.54      0.54      0.54       219\n",
      "\n"
     ]
    },
    {
     "data": {
      "text/plain": [
       "0.5576463262764633"
      ]
     },
     "execution_count": 89,
     "metadata": {},
     "output_type": "execute_result"
    }
   ],
   "source": [
    "accs = []\n",
    "\n",
    "for train_index, test_index in skf.split(X, y):\n",
    "    X_train, X_test = X.iloc[train_index, :], X.iloc[test_index, :]\n",
    "    y_train, y_test = y.iloc[train_index], y.iloc[test_index]    \n",
    "    \n",
    "    model = RandomForestClassifier()\n",
    "    model.fit(X_train, y_train)\n",
    "\n",
    "    y_pred = model.predict(X_test)\n",
    "    print(classification_report(y_test, y_pred))\n",
    "\n",
    "    accs.append(model.score(X_test, y_test))\n",
    "\n",
    "sum(accs) / len(accs)"
   ]
  },
  {
   "cell_type": "code",
   "execution_count": 96,
   "metadata": {},
   "outputs": [
    {
     "data": {
      "text/plain": [
       "((50,), (50,))"
      ]
     },
     "execution_count": 96,
     "metadata": {},
     "output_type": "execute_result"
    }
   ],
   "source": [
    "model.feature_importances_.shape, df_pca.columns.shape"
   ]
  },
  {
   "cell_type": "code",
   "execution_count": 99,
   "metadata": {},
   "outputs": [
    {
     "data": {
      "text/plain": [
       "PC7     0.026245\n",
       "PC13    0.026216\n",
       "PC1     0.025946\n",
       "PC18    0.025348\n",
       "PC16    0.023207\n",
       "PC4     0.023205\n",
       "PC32    0.023096\n",
       "PC5     0.022107\n",
       "PC15    0.022066\n",
       "PC41    0.021618\n",
       "PC49    0.021419\n",
       "PC45    0.021205\n",
       "PC34    0.021154\n",
       "PC6     0.020888\n",
       "PC50    0.020758\n",
       "PC26    0.020604\n",
       "PC8     0.020366\n",
       "PC3     0.020328\n",
       "PC22    0.020229\n",
       "PC17    0.020194\n",
       "PC33    0.019882\n",
       "PC2     0.019837\n",
       "PC35    0.019417\n",
       "PC27    0.019416\n",
       "PC39    0.019400\n",
       "PC46    0.019195\n",
       "PC43    0.019142\n",
       "PC42    0.018863\n",
       "PC40    0.018820\n",
       "PC19    0.018778\n",
       "PC31    0.018552\n",
       "PC37    0.018481\n",
       "PC14    0.018478\n",
       "PC12    0.018413\n",
       "PC48    0.018386\n",
       "PC10    0.018346\n",
       "PC28    0.018293\n",
       "PC38    0.018277\n",
       "PC23    0.018245\n",
       "PC11    0.018213\n",
       "PC20    0.018203\n",
       "PC47    0.018164\n",
       "PC24    0.018099\n",
       "PC25    0.017985\n",
       "PC30    0.017985\n",
       "PC29    0.017950\n",
       "PC9     0.017678\n",
       "PC44    0.017493\n",
       "PC36    0.016927\n",
       "PC21    0.016885\n",
       "Name: feature_importances, dtype: float64"
      ]
     },
     "execution_count": 99,
     "metadata": {},
     "output_type": "execute_result"
    }
   ],
   "source": [
    "pd.Series(model.feature_importances_, index=df_pca.columns, name='feature_importances').sort_values(ascending=False)"
   ]
  },
  {
   "cell_type": "code",
   "execution_count": 113,
   "metadata": {},
   "outputs": [
    {
     "data": {
      "text/plain": [
       "<AxesSubplot:>"
      ]
     },
     "execution_count": 113,
     "metadata": {},
     "output_type": "execute_result"
    },
    {
     "data": {
      "image/png": "[encoded data removed]",
      "text/plain": [
       "<Figure size 1440x288 with 2 Axes>"
      ]
     },
     "metadata": {},
     "output_type": "display_data"
    }
   ],
   "source": [
    "plt.figure(figsize=(20, 4))\n",
    "pheno['DX'] = pheno.DX_GROUP.astype('category').cat.codes\n",
    "sns.heatmap(df_pca.join(pheno).corr().loc[['DX'], :], center=0)"
   ]
  },
  {
   "cell_type": "code",
   "execution_count": 114,
   "metadata": {},
   "outputs": [
    {
     "data": {
      "text/html": [
       "<div>\n",
       "<style scoped>\n",
       "    .dataframe tbody tr th:only-of-type {\n",
       "        vertical-align: middle;\n",
       "    }\n",
       "\n",
       "    .dataframe tbody tr th {\n",
       "        vertical-align: top;\n",
       "    }\n",
       "\n",
       "    .dataframe thead th {\n",
       "        text-align: right;\n",
       "    }\n",
       "</style>\n",
       "<table border=\"1\" class=\"dataframe\">\n",
       "  <thead>\n",
       "    <tr style=\"text-align: right;\">\n",
       "      <th></th>\n",
       "      <th>PC1</th>\n",
       "      <th>PC2</th>\n",
       "      <th>PC3</th>\n",
       "      <th>PC4</th>\n",
       "      <th>PC5</th>\n",
       "      <th>PC6</th>\n",
       "      <th>PC7</th>\n",
       "      <th>PC8</th>\n",
       "      <th>PC9</th>\n",
       "      <th>PC10</th>\n",
       "      <th>...</th>\n",
       "      <th>PC43</th>\n",
       "      <th>PC44</th>\n",
       "      <th>PC45</th>\n",
       "      <th>PC46</th>\n",
       "      <th>PC47</th>\n",
       "      <th>PC48</th>\n",
       "      <th>PC49</th>\n",
       "      <th>PC50</th>\n",
       "      <th>AGE_AT_SCAN</th>\n",
       "      <th>DX</th>\n",
       "    </tr>\n",
       "  </thead>\n",
       "  <tbody>\n",
       "    <tr>\n",
       "      <th>DX</th>\n",
       "      <td>0.079048</td>\n",
       "      <td>-0.012419</td>\n",
       "      <td>-0.039866</td>\n",
       "      <td>0.07102</td>\n",
       "      <td>0.018733</td>\n",
       "      <td>0.032987</td>\n",
       "      <td>0.068581</td>\n",
       "      <td>-0.057049</td>\n",
       "      <td>-0.031864</td>\n",
       "      <td>0.036</td>\n",
       "      <td>...</td>\n",
       "      <td>0.013396</td>\n",
       "      <td>-0.017526</td>\n",
       "      <td>0.060576</td>\n",
       "      <td>0.0283</td>\n",
       "      <td>-0.009523</td>\n",
       "      <td>-0.033388</td>\n",
       "      <td>0.035687</td>\n",
       "      <td>0.036412</td>\n",
       "      <td>0.004402</td>\n",
       "      <td>1.0</td>\n",
       "    </tr>\n",
       "  </tbody>\n",
       "</table>\n",
       "<p>1 rows × 52 columns</p>\n",
       "</div>"
      ],
      "text/plain": [
       "         PC1       PC2       PC3      PC4       PC5       PC6       PC7  \\\n",
       "DX  0.079048 -0.012419 -0.039866  0.07102  0.018733  0.032987  0.068581   \n",
       "\n",
       "         PC8       PC9   PC10  ...      PC43      PC44      PC45    PC46  \\\n",
       "DX -0.057049 -0.031864  0.036  ...  0.013396 -0.017526  0.060576  0.0283   \n",
       "\n",
       "        PC47      PC48      PC49      PC50  AGE_AT_SCAN   DX  \n",
       "DX -0.009523 -0.033388  0.035687  0.036412     0.004402  1.0  \n",
       "\n",
       "[1 rows x 52 columns]"
      ]
     },
     "execution_count": 114,
     "metadata": {},
     "output_type": "execute_result"
    }
   ],
   "source": [
    "df_pca.join(pheno).corr().loc[['DX'], :]"
   ]
  }
 ],
 "metadata": {
  "kernelspec": {
   "display_name": "Python 3",
   "language": "python",
   "name": "python3"
  },
  "language_info": {
   "codemirror_mode": {
    "name": "ipython",
    "version": 3
   },
   "file_extension": ".py",
   "mimetype": "text/x-python",
   "name": "python",
   "nbconvert_exporter": "python",
   "pygments_lexer": "ipython3",
   "version": "3.8.5"
  }
 },
 "nbformat": 4,
 "nbformat_minor": 4
}
